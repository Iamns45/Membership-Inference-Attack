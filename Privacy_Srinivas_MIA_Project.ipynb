{
  "nbformat": 4,
  "nbformat_minor": 0,
  "metadata": {
    "colab": {
      "provenance": []
    },
    "kernelspec": {
      "name": "python3",
      "display_name": "Python 3"
    },
    "language_info": {
      "name": "python"
    }
  },
  "cells": [
    {
      "cell_type": "code",
      "execution_count": null,
      "metadata": {
        "id": "LCdaXEIhZyPr"
      },
      "outputs": [],
      "source": [
        "import numpy as np\n",
        "import matplotlib.pyplot as plt\n",
        "import tensorflow as tf\n",
        "from tensorflow import keras\n",
        "from tensorflow.keras import layers\n",
        "from sklearn.ensemble import AdaBoostClassifier\n",
        "from sklearn.linear_model import LinearRegression\n",
        "from sklearn.metrics import classification_report\n",
        "from sklearn.datasets import make_classification"
      ]
    },
    {
      "cell_type": "code",
      "source": [
        "from google.colab import drive\n",
        "drive.mount('/content/drive/')"
      ],
      "metadata": {
        "colab": {
          "base_uri": "https://localhost:8080/"
        },
        "id": "Dp9YkroRZ4L2",
        "outputId": "b2676339-4b62-4ba6-b1bf-9a13744f146f"
      },
      "execution_count": null,
      "outputs": [
        {
          "output_type": "stream",
          "name": "stdout",
          "text": [
            "Mounted at /content/drive/\n"
          ]
        }
      ]
    },
    {
      "cell_type": "code",
      "source": [
        "#Load the data models\n",
        "target_model = tf.keras.models.load_model(\"/content/drive/MyDrive/Privacy_2nd/trained_target_model.h5\")\n",
        "train_data_partial=np.load(\"/content/drive/MyDrive/Privacy_2nd/train_data_partial.npy\")\n",
        "train_labels_partial=np.load(\"/content/drive/MyDrive/Privacy_2nd/train_labels_partial.npy\")\n",
        "test_data_partial=np.load(\"/content/drive/MyDrive/Privacy_2nd/test_data_partial.npy\")\n",
        "test_labels_partial=np.load(\"/content/drive/MyDrive/Privacy_2nd/test_labels_partial.npy\")\n",
        "p_train_data=np.load(\"/content/drive/MyDrive/Privacy_2nd/train_data_partial.npy\")\n",
        "p_train_labels=np.load(\"/content/drive/MyDrive/Privacy_2nd/train_labels_partial.npy\")\n",
        "p_test_data=np.load(\"/content/drive/MyDrive/Privacy_2nd/test_data_partial.npy\")\n",
        "test_member_data=np.load(\"/content/drive/MyDrive/Privacy_2nd/test_member_data.npy\")\n",
        "test_non_member_data=np.load(\"/content/drive/MyDrive/Privacy_2nd/test_Nonmember_data.npy\")"
      ],
      "metadata": {
        "id": "o1RdB22wZ5Sm"
      },
      "execution_count": null,
      "outputs": []
    },
    {
      "cell_type": "code",
      "source": [
        "random=np.random.randint(0,10000, (10,))"
      ],
      "metadata": {
        "id": "u6Eqt7F0aY6y"
      },
      "execution_count": null,
      "outputs": []
    },
    {
      "cell_type": "code",
      "source": [
        "rndm_data=train_data_partial[random]"
      ],
      "metadata": {
        "id": "EF7MlPA0atI2"
      },
      "execution_count": null,
      "outputs": []
    },
    {
      "cell_type": "code",
      "source": [
        "#Summary of the given target model.\n",
        "target_model.summary()"
      ],
      "metadata": {
        "colab": {
          "base_uri": "https://localhost:8080/"
        },
        "id": "R9V2nUNiavrG",
        "outputId": "3585757d-629b-4d59-fd17-e220112d2643"
      },
      "execution_count": null,
      "outputs": [
        {
          "output_type": "stream",
          "name": "stdout",
          "text": [
            "Model: \"model\"\n",
            "_________________________________________________________________\n",
            " Layer (type)                Output Shape              Param #   \n",
            "=================================================================\n",
            " input_1 (InputLayer)        [(None, 32, 32, 3)]       0         \n",
            "                                                                 \n",
            " conv2d (Conv2D)             (None, 30, 30, 32)        896       \n",
            "                                                                 \n",
            " max_pooling2d (MaxPooling2  (None, 15, 15, 32)        0         \n",
            " D)                                                              \n",
            "                                                                 \n",
            " conv2d_1 (Conv2D)           (None, 13, 13, 64)        18496     \n",
            "                                                                 \n",
            " max_pooling2d_1 (MaxPoolin  (None, 6, 6, 64)          0         \n",
            " g2D)                                                            \n",
            "                                                                 \n",
            " conv2d_2 (Conv2D)           (None, 4, 4, 64)          36928     \n",
            "                                                                 \n",
            " max_pooling2d_2 (MaxPoolin  (None, 2, 2, 64)          0         \n",
            " g2D)                                                            \n",
            "                                                                 \n",
            " flatten (Flatten)           (None, 256)               0         \n",
            "                                                                 \n",
            " dense (Dense)               (None, 128)               32896     \n",
            "                                                                 \n",
            " dense_1 (Dense)             (None, 10)                1290      \n",
            "                                                                 \n",
            "=================================================================\n",
            "Total params: 90506 (353.54 KB)\n",
            "Trainable params: 90506 (353.54 KB)\n",
            "Non-trainable params: 0 (0.00 Byte)\n",
            "_________________________________________________________________\n"
          ]
        }
      ]
    },
    {
      "cell_type": "code",
      "source": [
        "#class labels from CIFAR 10 dataset.\n",
        "class_label_names = ['airplane', 'automobile', 'bird', 'cat', 'deer',\n",
        "               'dog', 'frog', 'horse', 'ship', 'truck']"
      ],
      "metadata": {
        "id": "7C-gMjn4a--N"
      },
      "execution_count": null,
      "outputs": []
    },
    {
      "cell_type": "code",
      "source": [
        "#check the data and plot them\n",
        "def eval_image_data(image_data):\n",
        "        num_of_rows = 3\n",
        "        num_of_cols = 3\n",
        "        fig, axes = plt.subplots(num_of_rows, num_of_cols, figsize=(1.5*num_of_cols,2*num_of_rows))\n",
        "        for i in range(9):\n",
        "            ax = axes[i//num_of_cols, i%num_of_cols]\n",
        "            ax.set_axis_off()\n",
        "            ax.imshow(image_data[i])\n",
        "\n",
        "        plt.tight_layout()\n",
        "        plt.show()"
      ],
      "metadata": {
        "id": "Q04Q8DDra3uM"
      },
      "execution_count": null,
      "outputs": []
    },
    {
      "cell_type": "code",
      "source": [
        "eval_image_data(rndm_data)"
      ],
      "metadata": {
        "colab": {
          "base_uri": "https://localhost:8080/",
          "height": 534
        },
        "id": "WJIxqEQ4c152",
        "outputId": "bad433a3-c8e7-4c2a-c48b-e8b68312176f"
      },
      "execution_count": null,
      "outputs": [
        {
          "output_type": "display_data",
          "data": {
            "text/plain": [
              "<Figure size 450x600 with 9 Axes>"
            ],
            "image/png": "[encoded data removed]"
          },
          "metadata": {}
        }
      ]
    },
    {
      "cell_type": "code",
      "source": [
        "prediction=target_model(rndm_data)"
      ],
      "metadata": {
        "id": "DesP1z76fHEm"
      },
      "execution_count": null,
      "outputs": []
    },
    {
      "cell_type": "code",
      "source": [
        "prediction.shape"
      ],
      "metadata": {
        "colab": {
          "base_uri": "https://localhost:8080/"
        },
        "id": "1LboxLM9faSq",
        "outputId": "5f37a4dc-53a9-4540-e791-86398a5e348f"
      },
      "execution_count": null,
      "outputs": [
        {
          "output_type": "execute_result",
          "data": {
            "text/plain": [
              "TensorShape([10, 10])"
            ]
          },
          "metadata": {},
          "execution_count": 29
        }
      ]
    },
    {
      "cell_type": "code",
      "source": [
        "predict_label=tf.math.argmax(prediction, axis=1)\n",
        "print(predict_label)"
      ],
      "metadata": {
        "colab": {
          "base_uri": "https://localhost:8080/"
        },
        "id": "N3Hr34IMfwMe",
        "outputId": "eedea6a4-c44d-48b5-cba7-916a686fa08a"
      },
      "execution_count": null,
      "outputs": [
        {
          "output_type": "stream",
          "name": "stdout",
          "text": [
            "tf.Tensor([2 6 8 1 3 8 9 5 1 1], shape=(10,), dtype=int64)\n"
          ]
        }
      ]
    },
    {
      "cell_type": "code",
      "source": [
        "for i in predict_label:\n",
        "    print(class_label_names[i])"
      ],
      "metadata": {
        "colab": {
          "base_uri": "https://localhost:8080/"
        },
        "id": "81J2ZZQWf0ea",
        "outputId": "73475d47-17dc-4dff-ddb7-8fcafed37043"
      },
      "execution_count": null,
      "outputs": [
        {
          "output_type": "stream",
          "name": "stdout",
          "text": [
            "bird\n",
            "frog\n",
            "ship\n",
            "automobile\n",
            "cat\n",
            "ship\n",
            "truck\n",
            "dog\n",
            "automobile\n",
            "automobile\n"
          ]
        }
      ]
    },
    {
      "cell_type": "code",
      "source": [
        "first_10_labels=trainlabels_partial[random]"
      ],
      "metadata": {
        "id": "ARWGa8vbgABm"
      },
      "execution_count": null,
      "outputs": []
    },
    {
      "cell_type": "code",
      "source": [
        "predict_accuracy=sum(first_10_labels==predict_label.numpy())/len(first_10_labels)\n",
        "print('Accuracy of Target Model :', predict_accuracy)"
      ],
      "metadata": {
        "colab": {
          "base_uri": "https://localhost:8080/"
        },
        "id": "KYCTf97vgcJQ",
        "outputId": "b286dd89-3ffb-4fd1-874a-877f1c3bdeb2"
      },
      "execution_count": null,
      "outputs": [
        {
          "output_type": "stream",
          "name": "stdout",
          "text": [
            "Accuracy of Target Model : 0.9\n"
          ]
        }
      ]
    },
    {
      "cell_type": "code",
      "source": [
        "mem_atr=target_model(train_data_partial)\n",
        "\n",
        "mem_atr"
      ],
      "metadata": {
        "colab": {
          "base_uri": "https://localhost:8080/"
        },
        "id": "9pQpe8cNgquK",
        "outputId": "80d663d0-1b61-4695-c4f0-6fabb5d1a9bc"
      },
      "execution_count": null,
      "outputs": [
        {
          "output_type": "execute_result",
          "data": {
            "text/plain": [
              "<tf.Tensor: shape=(10000, 10), dtype=float32, numpy=\n",
              "array([[ -8.09453   ,  -9.511581  ,   2.308946  , ...,   0.7989033 ,\n",
              "        -11.765329  , -14.546907  ],\n",
              "       [  1.4993261 ,  -1.5915823 ,   2.2405732 , ...,  -3.7230422 ,\n",
              "         -5.4061685 ,   9.783438  ],\n",
              "       [  1.2942592 ,   1.0332361 ,  -0.7563736 , ...,  -5.567007  ,\n",
              "         -7.7828164 ,   8.665651  ],\n",
              "       ...,\n",
              "       [  0.69104695,   7.2425804 ,  -4.5836205 , ...,  -4.4953585 ,\n",
              "          2.8515415 ,   7.202874  ],\n",
              "       [ -1.0489266 ,  10.469152  ,  -2.3504214 , ...,  -3.8080924 ,\n",
              "         -3.2119243 ,   3.6190464 ],\n",
              "       [ -4.1086407 ,  -7.4670677 ,   3.2689018 , ...,   6.2206845 ,\n",
              "        -11.102761  ,  -9.658786  ]], dtype=float32)>"
            ]
          },
          "metadata": {},
          "execution_count": 41
        }
      ]
    },
    {
      "cell_type": "code",
      "source": [
        "non_mem_atr = target_model(test_data_partial)\n",
        "\n",
        "non_mem_atr\n",
        "\n",
        "train_input, tst_input, train_input_labels, tst_input_labels = train_test_split(features, labels, test_size=0.33, random_state=24)"
      ],
      "metadata": {
        "colab": {
          "base_uri": "https://localhost:8080/"
        },
        "id": "NGCjrCDQ3z3b",
        "outputId": "affe0c49-af79-4c7a-acaf-71b5be745d8b"
      },
      "execution_count": null,
      "outputs": [
        {
          "output_type": "execute_result",
          "data": {
            "text/plain": [
              "<tf.Tensor: shape=(5000, 10), dtype=float32, numpy=\n",
              "array([[ -1.7871485 ,  -5.1116824 ,  -1.3135241 , ...,  -9.017349  ,\n",
              "          3.2459524 ,  -4.4019    ],\n",
              "       [  6.0741    ,   3.6214423 ,  -5.7152243 , ...,  -8.691189  ,\n",
              "         11.031433  ,   1.1811364 ],\n",
              "       [  0.8379353 ,   3.4393337 ,  -5.3589616 , ...,  -2.32182   ,\n",
              "          3.0722766 ,   1.130228  ],\n",
              "       ...,\n",
              "       [ -3.689346  ,  -5.9777665 ,  -3.7441618 , ...,  -1.4427079 ,\n",
              "         -5.288816  ,  -2.697714  ],\n",
              "       [-14.829874  ,  -8.71036   ,   3.8072836 , ...,   0.63230956,\n",
              "        -10.641227  , -12.714217  ],\n",
              "       [  1.2543784 ,  15.432904  ,  -4.1131434 , ..., -12.167717  ,\n",
              "         -8.198457  ,   5.549427  ]], dtype=float32)>"
            ]
          },
          "metadata": {},
          "execution_count": 42
        }
      ]
    },
    {
      "cell_type": "code",
      "source": [
        "Linear_reg_model = LinearRegression().fit(train_input, train_input_labels)\n",
        "Linear_reg_predictive_labels = Linear_reg_model.predict(tst_input)\n",
        "Linear_reg_predictive_labels = np.round(Linear_reg_predictive_labels)\n",
        "print('Linear Regression Classification Report')\n",
        "print(classification_report(tst_input_labels, Linear_reg_predictive_labels))"
      ],
      "metadata": {
        "colab": {
          "base_uri": "https://localhost:8080/"
        },
        "id": "pIiLFRmh5lsR",
        "outputId": "896fdb50-bb27-4299-b031-ce971e617dcf"
      },
      "execution_count": null,
      "outputs": [
        {
          "output_type": "stream",
          "name": "stdout",
          "text": [
            "Linear Regression Classification Report\n",
            "              precision    recall  f1-score   support\n",
            "\n",
            "           0       0.00      0.00      0.00      1643\n",
            "           1       0.67      1.00      0.80      3307\n",
            "\n",
            "    accuracy                           0.67      4950\n",
            "   macro avg       0.33      0.50      0.40      4950\n",
            "weighted avg       0.45      0.67      0.54      4950\n",
            "\n"
          ]
        },
        {
          "output_type": "stream",
          "name": "stderr",
          "text": [
            "/usr/local/lib/python3.10/dist-packages/sklearn/metrics/_classification.py:1344: UndefinedMetricWarning: Precision and F-score are ill-defined and being set to 0.0 in labels with no predicted samples. Use `zero_division` parameter to control this behavior.\n",
            "  _warn_prf(average, modifier, msg_start, len(result))\n",
            "/usr/local/lib/python3.10/dist-packages/sklearn/metrics/_classification.py:1344: UndefinedMetricWarning: Precision and F-score are ill-defined and being set to 0.0 in labels with no predicted samples. Use `zero_division` parameter to control this behavior.\n",
            "  _warn_prf(average, modifier, msg_start, len(result))\n",
            "/usr/local/lib/python3.10/dist-packages/sklearn/metrics/_classification.py:1344: UndefinedMetricWarning: Precision and F-score are ill-defined and being set to 0.0 in labels with no predicted samples. Use `zero_division` parameter to control this behavior.\n",
            "  _warn_prf(average, modifier, msg_start, len(result))\n"
          ]
        }
      ]
    },
    {
      "cell_type": "code",
      "source": [
        "Linear_reg__predictive_labels = Linear_reg_model.predict(train_input)\n",
        "Linear_reg_predictive_labels = np.round(Linear_reg_predictive_labels)\n",
        "print('With Ground truth Data')\n",
        "print(classification_report(train_input_labels, Linear_reg__predictive_labels))"
      ],
      "metadata": {
        "colab": {
          "base_uri": "https://localhost:8080/"
        },
        "id": "PhQvOOqr6CrE",
        "outputId": "70702c42-6ceb-4571-bef7-4e8fbd1a3355"
      },
      "execution_count": null,
      "outputs": [
        {
          "output_type": "stream",
          "name": "stdout",
          "text": [
            "With Ground truth Data\n",
            "              precision    recall  f1-score   support\n",
            "\n",
            "           0       0.00      0.00      0.00      3357\n",
            "           1       0.67      1.00      0.80      6693\n",
            "\n",
            "    accuracy                           0.67     10050\n",
            "   macro avg       0.33      0.50      0.40     10050\n",
            "weighted avg       0.44      0.67      0.53     10050\n",
            "\n"
          ]
        },
        {
          "output_type": "stream",
          "name": "stderr",
          "text": [
            "/usr/local/lib/python3.10/dist-packages/sklearn/metrics/_classification.py:1344: UndefinedMetricWarning: Precision and F-score are ill-defined and being set to 0.0 in labels with no predicted samples. Use `zero_division` parameter to control this behavior.\n",
            "  _warn_prf(average, modifier, msg_start, len(result))\n",
            "/usr/local/lib/python3.10/dist-packages/sklearn/metrics/_classification.py:1344: UndefinedMetricWarning: Precision and F-score are ill-defined and being set to 0.0 in labels with no predicted samples. Use `zero_division` parameter to control this behavior.\n",
            "  _warn_prf(average, modifier, msg_start, len(result))\n",
            "/usr/local/lib/python3.10/dist-packages/sklearn/metrics/_classification.py:1344: UndefinedMetricWarning: Precision and F-score are ill-defined and being set to 0.0 in labels with no predicted samples. Use `zero_division` parameter to control this behavior.\n",
            "  _warn_prf(average, modifier, msg_start, len(result))\n"
          ]
        }
      ]
    },
    {
      "cell_type": "code",
      "source": [
        "Ada_boost_model = AdaBoostClassifier(n_estimators=100, random_state=0)\n",
        "Ada_boost_model = Ada_boost_model.fit(train_input, train_input_labels)\n",
        "Ada_boost_predictive_labels = Ada_boost_model.predict(tst_input)\n",
        "print('AdaBoost Classification Report')\n",
        "print(classification_report(tst_input_labels, Ada_boost_predictive_labels))"
      ],
      "metadata": {
        "colab": {
          "base_uri": "https://localhost:8080/"
        },
        "id": "3RFnkQEm6WFt",
        "outputId": "3c9dc963-b8e1-4c9a-8209-07e2446dbf73"
      },
      "execution_count": null,
      "outputs": [
        {
          "output_type": "stream",
          "name": "stderr",
          "text": [
            "/usr/local/lib/python3.10/dist-packages/sklearn/utils/validation.py:1143: DataConversionWarning: A column-vector y was passed when a 1d array was expected. Please change the shape of y to (n_samples, ), for example using ravel().\n",
            "  y = column_or_1d(y, warn=True)\n"
          ]
        },
        {
          "output_type": "stream",
          "name": "stdout",
          "text": [
            "Shadow model 5 : AdaBoost Classification Report\n",
            "              precision    recall  f1-score   support\n",
            "\n",
            "           0       0.40      0.02      0.03      1643\n",
            "           1       0.67      0.99      0.80      3307\n",
            "\n",
            "    accuracy                           0.67      4950\n",
            "   macro avg       0.54      0.50      0.41      4950\n",
            "weighted avg       0.58      0.67      0.54      4950\n",
            "\n"
          ]
        }
      ]
    },
    {
      "cell_type": "code",
      "source": [
        "Ada_boost_predictive_labels = Ada_boost_model.predict(train_input)\n",
        "print('AdaBoost with the Ground truth Data')\n",
        "print(classification_report(train_input_labels, Ada_boost_predictive_labels))"
      ],
      "metadata": {
        "colab": {
          "base_uri": "https://localhost:8080/"
        },
        "id": "onI5o3JY6Zfk",
        "outputId": "39f44a8f-964a-4c30-99a3-7988c04c28fc"
      },
      "execution_count": null,
      "outputs": [
        {
          "output_type": "stream",
          "name": "stdout",
          "text": [
            "With Ground truth Data\n",
            "              precision    recall  f1-score   support\n",
            "\n",
            "           0       0.74      0.03      0.05      3357\n",
            "           1       0.67      1.00      0.80      6693\n",
            "\n",
            "    accuracy                           0.67     10050\n",
            "   macro avg       0.71      0.51      0.43     10050\n",
            "weighted avg       0.70      0.67      0.55     10050\n",
            "\n"
          ]
        }
      ]
    },
    {
      "cell_type": "code",
      "source": [
        "train_data_partial=train_data_partial[0:5000]\n",
        "mem_atck_train_data = np.vstack((train_data_partial, test_data_partial))\n",
        "mem_atck_train_data.shape"
      ],
      "metadata": {
        "colab": {
          "base_uri": "https://localhost:8080/"
        },
        "id": "GgNkkyXc6fHO",
        "outputId": "ffc95e72-dfe0-4543-cd2e-6ce9cf4fb2ac"
      },
      "execution_count": null,
      "outputs": [
        {
          "output_type": "execute_result",
          "data": {
            "text/plain": [
              "(10000, 32, 32, 3)"
            ]
          },
          "metadata": {},
          "execution_count": 54
        }
      ]
    },
    {
      "cell_type": "code",
      "source": [
        "mem_atck_train_lbs = np.hstack((np.ones(len(train_data_partial)), np.zeros(len(test_data_partial))))\n",
        "mem_atck_train_lbs.shape"
      ],
      "metadata": {
        "colab": {
          "base_uri": "https://localhost:8080/"
        },
        "id": "0Zu3eiaq-GRu",
        "outputId": "59f0cf32-c0c9-4e05-835e-2c885cb40378"
      },
      "execution_count": null,
      "outputs": [
        {
          "output_type": "execute_result",
          "data": {
            "text/plain": [
              "(10000,)"
            ]
          },
          "metadata": {},
          "execution_count": 56
        }
      ]
    },
    {
      "cell_type": "code",
      "source": [
        "import xgboost as xgb\n",
        "from sklearn.metrics import classification_report\n",
        "boost = xgb.XGBClassifier( learning_rate = 0.1,\n",
        "                          n_estimators = 50000,\n",
        "                          max_depth = 2,\n",
        "                          subsample = 0.8,\n",
        "                          colsample_bytree = 1,\n",
        "                          gamma = 1)\n",
        "boost.fit(target_predictions, mem_atck_train_lbs)"
      ],
      "metadata": {
        "colab": {
          "base_uri": "https://localhost:8080/",
          "height": 248
        },
        "id": "dPggUpLs-PHa",
        "outputId": "2dd08b06-c28a-4248-cdcf-8c73846bfae0"
      },
      "execution_count": null,
      "outputs": [
        {
          "output_type": "execute_result",
          "data": {
            "text/plain": [
              "XGBClassifier(base_score=None, booster=None, callbacks=None,\n",
              "              colsample_bylevel=None, colsample_bynode=None, colsample_bytree=1,\n",
              "              device=None, early_stopping_rounds=None, enable_categorical=False,\n",
              "              eval_metric=None, feature_types=None, gamma=1, grow_policy=None,\n",
              "              importance_type=None, interaction_constraints=None,\n",
              "              learning_rate=0.1, max_bin=None, max_cat_threshold=None,\n",
              "              max_cat_to_onehot=None, max_delta_step=None, max_depth=2,\n",
              "              max_leaves=None, min_child_weight=None, missing=nan,\n",
              "              monotone_constraints=None, multi_strategy=None,\n",
              "              n_estimators=50000, n_jobs=None, num_parallel_tree=None,\n",
              "              random_state=None, ...)"
            ],
            "text/html": [
              "<style>#sk-container-id-2 {color: black;background-color: white;}#sk-container-id-2 pre{padding: 0;}#sk-container-id-2 div.sk-toggleable {background-color: white;}#sk-container-id-2 label.sk-toggleable__label {cursor: pointer;display: block;width: 100%;margin-bottom: 0;padding: 0.3em;box-sizing: border-box;text-align: center;}#sk-container-id-2 label.sk-toggleable__label-arrow:before {content: \"▸\";float: left;margin-right: 0.25em;color: #696969;}#sk-container-id-2 label.sk-toggleable__label-arrow:hover:before {color: black;}#sk-container-id-2 div.sk-estimator:hover label.sk-toggleable__label-arrow:before {color: black;}#sk-container-id-2 div.sk-toggleable__content {max-height: 0;max-width: 0;overflow: hidden;text-align: left;background-color: #f0f8ff;}#sk-container-id-2 div.sk-toggleable__content pre {margin: 0.2em;color: black;border-radius: 0.25em;background-color: #f0f8ff;}#sk-container-id-2 input.sk-toggleable__control:checked~div.sk-toggleable__content {max-height: 200px;max-width: 100%;overflow: auto;}#sk-container-id-2 input.sk-toggleable__control:checked~label.sk-toggleable__label-arrow:before {content: \"▾\";}#sk-container-id-2 div.sk-estimator input.sk-toggleable__control:checked~label.sk-toggleable__label {background-color: #d4ebff;}#sk-container-id-2 div.sk-label input.sk-toggleable__control:checked~label.sk-toggleable__label {background-color: #d4ebff;}#sk-container-id-2 input.sk-hidden--visually {border: 0;clip: rect(1px 1px 1px 1px);clip: rect(1px, 1px, 1px, 1px);height: 1px;margin: -1px;overflow: hidden;padding: 0;position: absolute;width: 1px;}#sk-container-id-2 div.sk-estimator {font-family: monospace;background-color: #f0f8ff;border: 1px dotted black;border-radius: 0.25em;box-sizing: border-box;margin-bottom: 0.5em;}#sk-container-id-2 div.sk-estimator:hover {background-color: #d4ebff;}#sk-container-id-2 div.sk-parallel-item::after {content: \"\";width: 100%;border-bottom: 1px solid gray;flex-grow: 1;}#sk-container-id-2 div.sk-label:hover label.sk-toggleable__label {background-color: #d4ebff;}#sk-container-id-2 div.sk-serial::before {content: \"\";position: absolute;border-left: 1px solid gray;box-sizing: border-box;top: 0;bottom: 0;left: 50%;z-index: 0;}#sk-container-id-2 div.sk-serial {display: flex;flex-direction: column;align-items: center;background-color: white;padding-right: 0.2em;padding-left: 0.2em;position: relative;}#sk-container-id-2 div.sk-item {position: relative;z-index: 1;}#sk-container-id-2 div.sk-parallel {display: flex;align-items: stretch;justify-content: center;background-color: white;position: relative;}#sk-container-id-2 div.sk-item::before, #sk-container-id-2 div.sk-parallel-item::before {content: \"\";position: absolute;border-left: 1px solid gray;box-sizing: border-box;top: 0;bottom: 0;left: 50%;z-index: -1;}#sk-container-id-2 div.sk-parallel-item {display: flex;flex-direction: column;z-index: 1;position: relative;background-color: white;}#sk-container-id-2 div.sk-parallel-item:first-child::after {align-self: flex-end;width: 50%;}#sk-container-id-2 div.sk-parallel-item:last-child::after {align-self: flex-start;width: 50%;}#sk-container-id-2 div.sk-parallel-item:only-child::after {width: 0;}#sk-container-id-2 div.sk-dashed-wrapped {border: 1px dashed gray;margin: 0 0.4em 0.5em 0.4em;box-sizing: border-box;padding-bottom: 0.4em;background-color: white;}#sk-container-id-2 div.sk-label label {font-family: monospace;font-weight: bold;display: inline-block;line-height: 1.2em;}#sk-container-id-2 div.sk-label-container {text-align: center;}#sk-container-id-2 div.sk-container {/* jupyter's `normalize.less` sets `[hidden] { display: none; }` but bootstrap.min.css set `[hidden] { display: none !important; }` so we also need the `!important` here to be able to override the default hidden behavior on the sphinx rendered scikit-learn.org. See: https://github.com/scikit-learn/scikit-learn/issues/21755 */display: inline-block !important;position: relative;}#sk-container-id-2 div.sk-text-repr-fallback {display: none;}</style><div id=\"sk-container-id-2\" class=\"sk-top-container\"><div class=\"sk-text-repr-fallback\"><pre>XGBClassifier(base_score=None, booster=None, callbacks=None,\n",
              "              colsample_bylevel=None, colsample_bynode=None, colsample_bytree=1,\n",
              "              device=None, early_stopping_rounds=None, enable_categorical=False,\n",
              "              eval_metric=None, feature_types=None, gamma=1, grow_policy=None,\n",
              "              importance_type=None, interaction_constraints=None,\n",
              "              learning_rate=0.1, max_bin=None, max_cat_threshold=None,\n",
              "              max_cat_to_onehot=None, max_delta_step=None, max_depth=2,\n",
              "              max_leaves=None, min_child_weight=None, missing=nan,\n",
              "              monotone_constraints=None, multi_strategy=None,\n",
              "              n_estimators=50000, n_jobs=None, num_parallel_tree=None,\n",
              "              random_state=None, ...)</pre><b>In a Jupyter environment, please rerun this cell to show the HTML representation or trust the notebook. <br />On GitHub, the HTML representation is unable to render, please try loading this page with nbviewer.org.</b></div><div class=\"sk-container\" hidden><div class=\"sk-item\"><div class=\"sk-estimator sk-toggleable\"><input class=\"sk-toggleable__control sk-hidden--visually\" id=\"sk-estimator-id-2\" type=\"checkbox\" checked><label for=\"sk-estimator-id-2\" class=\"sk-toggleable__label sk-toggleable__label-arrow\">XGBClassifier</label><div class=\"sk-toggleable__content\"><pre>XGBClassifier(base_score=None, booster=None, callbacks=None,\n",
              "              colsample_bylevel=None, colsample_bynode=None, colsample_bytree=1,\n",
              "              device=None, early_stopping_rounds=None, enable_categorical=False,\n",
              "              eval_metric=None, feature_types=None, gamma=1, grow_policy=None,\n",
              "              importance_type=None, interaction_constraints=None,\n",
              "              learning_rate=0.1, max_bin=None, max_cat_threshold=None,\n",
              "              max_cat_to_onehot=None, max_delta_step=None, max_depth=2,\n",
              "              max_leaves=None, min_child_weight=None, missing=nan,\n",
              "              monotone_constraints=None, multi_strategy=None,\n",
              "              n_estimators=50000, n_jobs=None, num_parallel_tree=None,\n",
              "              random_state=None, ...)</pre></div></div></div></div></div>"
            ]
          },
          "metadata": {},
          "execution_count": 76
        }
      ]
    },
    {
      "cell_type": "code",
      "source": [
        "def MIA(data):\n",
        "  target_predictions = target_model(data)\n",
        "  return boost.predict(target_predictions)\n",
        "\n",
        "test_member_data.shape"
      ],
      "metadata": {
        "colab": {
          "base_uri": "https://localhost:8080/"
        },
        "id": "zF6o8eZB-fEn",
        "outputId": "94501486-6c8e-4993-d9c7-b0ba533d1027"
      },
      "execution_count": null,
      "outputs": [
        {
          "output_type": "execute_result",
          "data": {
            "text/plain": [
              "(1000, 32, 32, 3)"
            ]
          },
          "metadata": {},
          "execution_count": 77
        }
      ]
    },
    {
      "cell_type": "code",
      "source": [
        "predict = MIA(test_member_data)\n",
        "accuracy=len(predict[np.where(predict==1)])/len(predict)\n",
        "accuracy"
      ],
      "metadata": {
        "colab": {
          "base_uri": "https://localhost:8080/"
        },
        "id": "OSpfjd84-pzU",
        "outputId": "877533d4-97b2-468c-c2c7-7f543ca5507a"
      },
      "execution_count": null,
      "outputs": [
        {
          "output_type": "execute_result",
          "data": {
            "text/plain": [
              "0.505"
            ]
          },
          "metadata": {},
          "execution_count": 78
        }
      ]
    },
    {
      "cell_type": "code",
      "source": [
        "test_non_member_data.shape"
      ],
      "metadata": {
        "colab": {
          "base_uri": "https://localhost:8080/"
        },
        "id": "4D133tmr_EAE",
        "outputId": "b3936f41-ca1e-4953-9a00-7878da85c2b4"
      },
      "execution_count": null,
      "outputs": [
        {
          "output_type": "execute_result",
          "data": {
            "text/plain": [
              "(1000, 32, 32, 3)"
            ]
          },
          "metadata": {},
          "execution_count": 79
        }
      ]
    },
    {
      "cell_type": "code",
      "source": [
        "predict=MIA(test_non_member_data)\n",
        "accuracy=len(predict[np.where(predict==0)])/len(predict)\n",
        "accuracy"
      ],
      "metadata": {
        "colab": {
          "base_uri": "https://localhost:8080/"
        },
        "id": "h1RPZvDc-w2N",
        "outputId": "547270f5-7ff7-4bb7-df1a-3ebfcabdfb0d"
      },
      "execution_count": null,
      "outputs": [
        {
          "output_type": "execute_result",
          "data": {
            "text/plain": [
              "0.518"
            ]
          },
          "metadata": {},
          "execution_count": 81
        }
      ]
    },
    {
      "cell_type": "code",
      "source": [
        "evaluate_data=np.load(\"/content/drive/MyDrive/Privacy_2nd/evaluation_data.npy\")\n",
        "\n",
        "len(evaluate_data)"
      ],
      "metadata": {
        "colab": {
          "base_uri": "https://localhost:8080/"
        },
        "id": "OubNNJoE-5Y8",
        "outputId": "80753bef-0026-4bcb-d9b7-547e3130058d"
      },
      "execution_count": null,
      "outputs": [
        {
          "output_type": "execute_result",
          "data": {
            "text/plain": [
              "10000"
            ]
          },
          "metadata": {},
          "execution_count": 83
        }
      ]
    },
    {
      "cell_type": "code",
      "source": [
        "evaluation_res=MIA(evaluate_data)\n",
        "evaluation_res.shape"
      ],
      "metadata": {
        "colab": {
          "base_uri": "https://localhost:8080/"
        },
        "id": "xMmWLgxn_5ZF",
        "outputId": "0093472c-7051-44d8-fc8c-5af92f49e6b9"
      },
      "execution_count": null,
      "outputs": [
        {
          "output_type": "execute_result",
          "data": {
            "text/plain": [
              "(10000,)"
            ]
          },
          "metadata": {},
          "execution_count": 84
        }
      ]
    },
    {
      "cell_type": "code",
      "source": [
        "np.save(\"/content/drive/MyDrive/Privacy_2nd/Srinivas_evaluation_result.npy\", evaluation_res)"
      ],
      "metadata": {
        "id": "1mR43FO3AIPS"
      },
      "execution_count": null,
      "outputs": []
    },
    {
      "cell_type": "code",
      "source": [
        "import numpy as np\n",
        "\n",
        "# Load the file\n",
        "evaluation_results = np.load(\"/content/drive/MyDrive/Privacy_2nd/Srinivas_evaluation_result.npy\")\n",
        "\n",
        "# Print the contents\n",
        "# print(evaluation_results)\n",
        "\n",
        "print(evaluation_results[:200])\n",
        "\n",
        "num_zeros = np.sum(evaluation_results == 0)\n",
        "num_ones = np.sum(evaluation_results == 1)\n",
        "\n",
        "print(f\"Number of 0's (non-members): {num_zeros}\")\n",
        "print(f\"Number of 1's (Members): {num_ones}\")"
      ],
      "metadata": {
        "colab": {
          "base_uri": "https://localhost:8080/"
        },
        "id": "25RmD-qNAad7",
        "outputId": "d0f56085-23ca-439e-b605-13828d706452"
      },
      "execution_count": null,
      "outputs": [
        {
          "output_type": "stream",
          "name": "stdout",
          "text": [
            "[0 1 1 0 1 1 1 1 1 1 1 0 1 1 1 1 1 1 0 1 1 0 1 0 1 0 1 0 1 1 1 0 1 1 0 0 0\n",
            " 1 0 1 1 0 1 1 0 1 0 1 1 0 0 0 0 0 0 1 0 1 1 0 0 0 1 1 0 1 0 1 1 0 1 0 1 1\n",
            " 1 0 1 0 1 0 1 0 1 0 1 0 1 1 1 1 0 1 1 0 0 1 1 1 1 1 1 0 0 1 0 1 1 0 0 0 0\n",
            " 1 0 1 1 1 0 1 0 1 0 1 0 1 1 1 0 1 0 1 1 0 0 0 0 0 1 0 0 1 1 1 0 1 0 1 1 0\n",
            " 0 1 0 0 0 1 1 1 1 0 0 1 0 0 1 0 1 0 1 1 1 0 0 0 1 0 1 1 0 0 0 1 0 1 1 0 1\n",
            " 1 1 1 0 0 0 1 0 1 1 1 0 1 1 1]\n",
            "Number of 0's (non-members): 5117\n",
            "Number of 1's (Members): 4883\n"
          ]
        }
      ]
    },
    {
      "cell_type": "code",
      "source": [],
      "metadata": {
        "id": "LXoQh7nlBLGo"
      },
      "execution_count": null,
      "outputs": []
    }
  ]
}